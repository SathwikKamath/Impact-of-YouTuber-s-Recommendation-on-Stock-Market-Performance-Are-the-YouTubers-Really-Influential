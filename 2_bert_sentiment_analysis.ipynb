{
 "cells": [
  {
   "cell_type": "markdown",
   "id": "d873a599",
   "metadata": {},
   "source": [
    "# BERT Model Training for Sentiment Classification\n",
    "This notebook fine-tunes a BERT model to classify YouTube transcripts into sentiment categories."
   ]
  },
  {
   "cell_type": "code",
   "execution_count": null,
   "id": "3f157dda",
   "metadata": {},
   "outputs": [],
   "source": [
    "import pandas as pd\n",
    "import torch\n",
    "from transformers import BertTokenizer, BertForSequenceClassification, Trainer, TrainingArguments\n",
    "from torch.utils.data import Dataset\n",
    "from sklearn.model_selection import train_test_split\n",
    "from sklearn.metrics import f1_score\n",
    "import numpy as np\n"
   ]
  },
  {
   "cell_type": "code",
   "execution_count": null,
   "id": "ff3adc14",
   "metadata": {},
   "outputs": [],
   "source": [
    "# Load labeled transcript data\n",
    "df = pd.read_excel(\"labeled_transcripts.xlsx\")\n",
    "transcripts = df['Transcript'].tolist()\n",
    "labels = df['Label'].tolist()\n"
   ]
  },
  {
   "cell_type": "code",
   "execution_count": null,
   "id": "2c680b2e",
   "metadata": {},
   "outputs": [],
   "source": [
    "# Tokenization\n",
    "tokenizer = BertTokenizer.from_pretrained('bert-base-uncased')\n",
    "train_texts, val_texts, train_labels, val_labels = train_test_split(\n",
    "    transcripts, labels, test_size=0.3, random_state=42\n",
    ")\n",
    "train_encodings = tokenizer(train_texts, truncation=True, padding=True, max_length=512)\n",
    "val_encodings = tokenizer(val_texts, truncation=True, padding=True, max_length=512)\n"
   ]
  },
  {
   "cell_type": "code",
   "execution_count": null,
   "id": "273928ad",
   "metadata": {},
   "outputs": [],
   "source": [
    "# PyTorch dataset class\n",
    "class TranscriptDataset(Dataset):\n",
    "    def __init__(self, encodings, labels):\n",
    "        self.encodings = encodings\n",
    "        self.labels = labels\n",
    "\n",
    "    def __getitem__(self, idx):\n",
    "        item = {k: torch.tensor(v[idx]) for k, v in self.encodings.items()}\n",
    "        item['labels'] = torch.tensor(self.labels[idx])\n",
    "        return item\n",
    "\n",
    "    def __len__(self):\n",
    "        return len(self.labels)\n",
    "\n",
    "train_dataset = TranscriptDataset(train_encodings, train_labels)\n",
    "val_dataset = TranscriptDataset(val_encodings, val_labels)\n"
   ]
  },
  {
   "cell_type": "code",
   "execution_count": null,
   "id": "a0a59c48",
   "metadata": {},
   "outputs": [],
   "source": [
    "# Load BERT model with 3 sentiment classes (positive, neutral, negative)\n",
    "model = BertForSequenceClassification.from_pretrained('bert-base-uncased', num_labels=3)\n"
   ]
  },
  {
   "cell_type": "code",
   "execution_count": null,
   "id": "125c6d4b",
   "metadata": {},
   "outputs": [],
   "source": [
    "# Training configuration\n",
    "training_args = TrainingArguments(\n",
    "    output_dir='./results',\n",
    "    num_train_epochs=3,\n",
    "    per_device_train_batch_size=8,\n",
    "    per_device_eval_batch_size=16,\n",
    "    warmup_steps=50,\n",
    "    evaluation_strategy=\"epoch\",\n",
    "    logging_dir='./logs',\n",
    ")\n"
   ]
  },
  {
   "cell_type": "code",
   "execution_count": null,
   "id": "08d8765e",
   "metadata": {},
   "outputs": [],
   "source": [
    "# Training and evaluation\n",
    "trainer = Trainer(\n",
    "    model=model,\n",
    "    args=training_args,\n",
    "    train_dataset=train_dataset,\n",
    "    eval_dataset=val_dataset,\n",
    ")\n",
    "\n",
    "trainer.train()\n",
    "eval_results = trainer.evaluate()\n",
    "print(\"Evaluation Results:\", eval_results)\n"
   ]
  },
  {
   "cell_type": "code",
   "execution_count": null,
   "id": "3470dbfb",
   "metadata": {},
   "outputs": [],
   "source": [
    "# Final evaluation: F1 Score\n",
    "predictions, true_labels, _ = trainer.predict(val_dataset)\n",
    "predicted_labels = np.argmax(predictions, axis=1)\n",
    "f1 = f1_score(true_labels, predicted_labels, average='weighted')\n",
    "print(\"F1 Score:\", f1)\n"
   ]
  }
 ],
 "metadata": {
  "kernelspec": {
   "display_name": "Python 3.10 (py310env)",
   "language": "python",
   "name": "py310env"
  },
  "language_info": {
   "codemirror_mode": {
    "name": "ipython",
    "version": 3
   },
   "file_extension": ".py",
   "mimetype": "text/x-python",
   "name": "python",
   "nbconvert_exporter": "python",
   "pygments_lexer": "ipython3",
   "version": "3.10.16"
  }
 },
 "nbformat": 4,
 "nbformat_minor": 5
}
