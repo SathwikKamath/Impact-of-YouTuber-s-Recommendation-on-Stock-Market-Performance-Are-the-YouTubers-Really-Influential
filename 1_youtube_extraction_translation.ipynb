{
 "cells": [
  {
   "cell_type": "markdown",
   "id": "60ed9f3b",
   "metadata": {},
   "source": [
    "# YouTube Data Extraction and Transcript Translation\n",
    "This notebook extracts YouTube video metadata, fetches transcripts, and translates them to English."
   ]
  },
  {
   "cell_type": "code",
   "execution_count": null,
   "id": "4a9399e6",
   "metadata": {},
   "outputs": [],
   "source": [
    "from googleapiclient.discovery import build\n",
    "import pandas as pd\n",
    "\n",
    "API_KEY = \"YOUR_API_KEY\"  # Hear API Key is Hidden\n",
    "youtube = build('youtube', 'v3', developerKey=API_KEY)\n",
    "\n",
    "def get_video_details(video_ids):\n",
    "    all_data = []\n",
    "    for video_id in video_ids:\n",
    "        request = youtube.videos().list(part=\"snippet,statistics\", id=video_id)\n",
    "        response = request.execute()\n",
    "        for item in response[\"items\"]:\n",
    "            all_data.append({\n",
    "                \"Video_ID\": video_id,\n",
    "                \"Title\": item[\"snippet\"][\"title\"],\n",
    "                \"Channel\": item[\"snippet\"][\"channelTitle\"],\n",
    "                \"Published\": item[\"snippet\"][\"publishedAt\"],\n",
    "                \"Views\": item[\"statistics\"].get(\"viewCount\", 0),\n",
    "                \"Likes\": item[\"statistics\"].get(\"likeCount\", 0),\n",
    "                \"Comments\": item[\"statistics\"].get(\"commentCount\", 0)\n",
    "            })\n",
    "    return pd.DataFrame(all_data)\n"
   ]
  },
  {
   "cell_type": "code",
   "execution_count": null,
   "id": "42d68500",
   "metadata": {},
   "outputs": [],
   "source": [
    "from youtube_transcript_api import YouTubeTranscriptApi, TranscriptsDisabled\n",
    "from deep_translator import GoogleTranslator\n",
    "\n",
    "def get_transcripts(video_ids):\n",
    "    transcripts = []\n",
    "    for vid in video_ids:\n",
    "        try:\n",
    "            result = YouTubeTranscriptApi.get_transcript(vid)\n",
    "            text = \" \".join([r[\"text\"] for r in result])\n",
    "            translated = GoogleTranslator(source='auto', target='en').translate(text)\n",
    "            transcripts.append({\"Video_ID\": vid, \"Transcript\": translated})\n",
    "        except TranscriptsDisabled:\n",
    "            transcripts.append({\"Video_ID\": vid, \"Transcript\": \"\"})\n",
    "    return pd.DataFrame(transcripts)\n"
   ]
  },
  {
   "cell_type": "code",
   "execution_count": null,
   "id": "3b29cefd",
   "metadata": {},
   "outputs": [],
   "source": [
    "# Example usage (replace with real video IDs)\n",
    "video_ids = ['dQw4w9WgXcQ', 'nCgQDjiotG0']  # Example placeholders\n",
    "video_df = get_video_details(video_ids)\n",
    "trans_df = get_transcripts(video_ids)\n",
    "final_df = pd.merge(video_df, trans_df, on='Video_ID', how='left')\n",
    "final_df.to_excel(\"youtube_transcripts_translated.xlsx\", index=False)\n",
    "final_df.head()\n"
   ]
  }
 ],
 "metadata": {
  "kernelspec": {
   "display_name": "Python 3.10 (py310env)",
   "language": "python",
   "name": "py310env"
  },
  "language_info": {
   "codemirror_mode": {
    "name": "ipython",
    "version": 3
   },
   "file_extension": ".py",
   "mimetype": "text/x-python",
   "name": "python",
   "nbconvert_exporter": "python",
   "pygments_lexer": "ipython3",
   "version": "3.10.16"
  }
 },
 "nbformat": 4,
 "nbformat_minor": 5
}
